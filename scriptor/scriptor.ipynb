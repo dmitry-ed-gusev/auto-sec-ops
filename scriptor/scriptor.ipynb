{
 "cells": [
  {
   "cell_type": "code",
   "execution_count": 2,
   "id": "73f53869-3dbe-4005-b6da-60c84bd3a833",
   "metadata": {},
   "outputs": [],
   "source": [
    "import kubernetes"
   ]
  },
  {
   "cell_type": "code",
   "execution_count": 3,
   "id": "c484fbcc-8070-4d41-be27-f78502b72d73",
   "metadata": {},
   "outputs": [
    {
     "ename": "ModuleNotFoundError",
     "evalue": "No module named 'zzz'",
     "output_type": "error",
     "traceback": [
      "\u001b[1;31m---------------------------------------------------------------------------\u001b[0m",
      "\u001b[1;31mModuleNotFoundError\u001b[0m                       Traceback (most recent call last)",
      "Cell \u001b[1;32mIn[3], line 1\u001b[0m\n\u001b[1;32m----> 1\u001b[0m \u001b[38;5;28;01mimport\u001b[39;00m \u001b[38;5;21;01mzzz\u001b[39;00m\n",
      "\u001b[1;31mModuleNotFoundError\u001b[0m: No module named 'zzz'"
     ]
    }
   ],
   "source": [
    "import zzz"
   ]
  },
  {
   "cell_type": "code",
   "execution_count": null,
   "id": "cff5cf9e-33c9-4ffb-a9e3-e168086ee6f3",
   "metadata": {},
   "outputs": [],
   "source": []
  }
 ],
 "metadata": {
  "kernelspec": {
   "display_name": "scriptor-ipykernel",
   "language": "python",
   "name": "scriptor-ipykernel"
  },
  "language_info": {
   "codemirror_mode": {
    "name": "ipython",
    "version": 3
   },
   "file_extension": ".py",
   "mimetype": "text/x-python",
   "name": "python",
   "nbconvert_exporter": "python",
   "pygments_lexer": "ipython3",
   "version": "3.10.11"
  }
 },
 "nbformat": 4,
 "nbformat_minor": 5
}
